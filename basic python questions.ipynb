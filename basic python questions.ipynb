{
 "cells": [
  {
   "cell_type": "markdown",
   "id": "084839e1",
   "metadata": {},
   "source": [
    "# Data types"
   ]
  },
  {
   "cell_type": "code",
   "execution_count": null,
   "id": "a1a5f93b",
   "metadata": {},
   "outputs": [],
   "source": [
    "1.Name four of the main data types in Python\n",
    "2.What does immutable mean and what three types of Python core data types are considered immutable?\n",
    "3.What does sequence mean and which three types of data fall into this category?\n",
    "4.What does mapping mean and what kind of data type is based on mapping?"
   ]
  },
  {
   "cell_type": "markdown",
   "id": "c7e2206a",
   "metadata": {},
   "source": [
    "# Operators"
   ]
  },
  {
   "cell_type": "code",
   "execution_count": null,
   "id": "815ec002",
   "metadata": {},
   "outputs": [],
   "source": [
    "1.list types of operators in python\n",
    "2.list arithmaatic operators\n",
    "3.list Assignment Operators\n",
    "4.list bitwise operators"
   ]
  },
  {
   "cell_type": "markdown",
   "id": "a03f9ffb",
   "metadata": {},
   "source": [
    "# Conditional Statements"
   ]
  },
  {
   "cell_type": "code",
   "execution_count": null,
   "id": "04baa784",
   "metadata": {},
   "outputs": [],
   "source": [
    "1.list conditional statement with example\n",
    "2.Write a program to display \"Hello\" if a number entered by user is a multiple of five , \n",
    "otherwise print \"Bye\".\n",
    "3.Write a program to check whether a number is divisible by 7 or not.\n",
    "4. Is there any limit of statement that can appear under an if block"
   ]
  },
  {
   "cell_type": "markdown",
   "id": "71aa1fa0",
   "metadata": {},
   "source": [
    "# looping statements"
   ]
  },
  {
   "cell_type": "code",
   "execution_count": null,
   "id": "4e6dafa5",
   "metadata": {},
   "outputs": [],
   "source": [
    "1.What keyword is used for looping\n",
    "2.What function can generate a list of numbers\n",
    "3.Name the 2 keywords used for looping\n",
    "4.What module is used for generating random values"
   ]
  },
  {
   "cell_type": "markdown",
   "id": "7f9bae0b",
   "metadata": {},
   "source": [
    "# Functions"
   ]
  },
  {
   "cell_type": "code",
   "execution_count": null,
   "id": "61ec81f6",
   "metadata": {},
   "outputs": [],
   "source": [
    "1.what is function \n",
    "2.Explain build in function\n",
    "3.what is usage of intendation\n",
    "4.What are Python Modules?"
   ]
  }
 ],
 "metadata": {
  "kernelspec": {
   "display_name": "Python 3",
   "language": "python",
   "name": "python3"
  },
  "language_info": {
   "codemirror_mode": {
    "name": "ipython",
    "version": 3
   },
   "file_extension": ".py",
   "mimetype": "text/x-python",
   "name": "python",
   "nbconvert_exporter": "python",
   "pygments_lexer": "ipython3",
   "version": "3.8.8"
  }
 },
 "nbformat": 4,
 "nbformat_minor": 5
}
